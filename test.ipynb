{
 "cells": [
  {
   "cell_type": "code",
   "execution_count": 1,
   "metadata": {},
   "outputs": [
    {
     "name": "stderr",
     "output_type": "stream",
     "text": [
      "/home/logan/.local/lib/python3.10/site-packages/matplotlib/projections/__init__.py:63: UserWarning: Unable to import Axes3D. This may be due to multiple versions of Matplotlib being installed (e.g. as a system package and as a pip package). As a result, the 3D projection is not available.\n",
      "  warnings.warn(\"Unable to import Axes3D. This may be due to multiple versions of \"\n"
     ]
    }
   ],
   "source": [
    "from github import Github\n",
    "from dotenv import load_dotenv\n",
    "import os\n",
    "from collections import defaultdict\n",
    "import matplotlib.pyplot as plt\n",
    "import matplotlib.ticker as ticker\n",
    "\n",
    "from google.cloud import bigquery\n",
    "from google.oauth2 import service_account\n",
    "import numpy as np\n",
    "import pandas as pd\n",
    "import seaborn as sns"
   ]
  },
  {
   "cell_type": "code",
   "execution_count": 2,
   "metadata": {},
   "outputs": [
    {
     "name": "stdout",
     "output_type": "stream",
     "text": [
      "Defaulting to user installation because normal site-packages is not writeable\n",
      "Obtaining bq_helper from git+https://github.com/SohierDane/BigQuery_Helper#egg=bq_helper\n",
      "  Updating ./src/bq-helper clone\n",
      "  Running command git fetch -q --tags\n",
      "  Running command git reset --hard -q 8615a7f6c1663e7f2d48aa2b32c2dbcb600a440f\n",
      "  Preparing metadata (setup.py) ... \u001b[?25ldone\n",
      "\u001b[?25hRequirement already satisfied: google-cloud-bigquery in /home/logan/.local/lib/python3.10/site-packages (from bq_helper) (2.34.3)\n",
      "Requirement already satisfied: pandas in /home/logan/.local/lib/python3.10/site-packages (from bq_helper) (1.4.4)\n",
      "Requirement already satisfied: packaging>=14.3 in /home/logan/.local/lib/python3.10/site-packages (from google-cloud-bigquery->bq_helper) (23.2)\n",
      "Requirement already satisfied: google-cloud-core<3.0.0dev,>=1.4.1 in /home/logan/.local/lib/python3.10/site-packages (from google-cloud-bigquery->bq_helper) (2.3.3)\n",
      "Requirement already satisfied: google-resumable-media<3.0dev,>=0.6.0 in /home/logan/.local/lib/python3.10/site-packages (from google-cloud-bigquery->bq_helper) (2.6.0)\n",
      "Requirement already satisfied: python-dateutil<3.0dev,>=2.7.2 in /home/logan/.local/lib/python3.10/site-packages (from google-cloud-bigquery->bq_helper) (2.8.2)\n",
      "Requirement already satisfied: protobuf>=3.12.0 in /home/logan/.local/lib/python3.10/site-packages (from google-cloud-bigquery->bq_helper) (4.25.0)\n",
      "Requirement already satisfied: google-api-core[grpc]!=2.0.*,!=2.1.*,!=2.2.*,!=2.3.0,<3.0.0dev,>=1.31.5 in /home/logan/.local/lib/python3.10/site-packages (from google-cloud-bigquery->bq_helper) (2.12.0)\n",
      "Requirement already satisfied: requests<3.0.0dev,>=2.18.0 in /home/logan/.local/lib/python3.10/site-packages (from google-cloud-bigquery->bq_helper) (2.31.0)\n",
      "Requirement already satisfied: proto-plus>=1.15.0 in /home/logan/.local/lib/python3.10/site-packages (from google-cloud-bigquery->bq_helper) (1.22.3)\n",
      "Requirement already satisfied: grpcio<2.0dev,>=1.38.1 in /home/logan/.local/lib/python3.10/site-packages (from google-cloud-bigquery->bq_helper) (1.59.3)\n",
      "Requirement already satisfied: pytz>=2020.1 in /usr/lib/python3/dist-packages (from pandas->bq_helper) (2022.1)\n",
      "Requirement already satisfied: numpy>=1.21.0 in /home/logan/.local/lib/python3.10/site-packages (from pandas->bq_helper) (1.26.1)\n",
      "Requirement already satisfied: googleapis-common-protos<2.0.dev0,>=1.56.2 in /home/logan/.local/lib/python3.10/site-packages (from google-api-core[grpc]!=2.0.*,!=2.1.*,!=2.2.*,!=2.3.0,<3.0.0dev,>=1.31.5->google-cloud-bigquery->bq_helper) (1.61.0)\n",
      "Requirement already satisfied: google-auth<3.0.dev0,>=2.14.1 in /home/logan/.local/lib/python3.10/site-packages (from google-api-core[grpc]!=2.0.*,!=2.1.*,!=2.2.*,!=2.3.0,<3.0.0dev,>=1.31.5->google-cloud-bigquery->bq_helper) (2.23.4)\n",
      "Requirement already satisfied: grpcio-status<2.0.dev0,>=1.33.2 in /home/logan/.local/lib/python3.10/site-packages (from google-api-core[grpc]!=2.0.*,!=2.1.*,!=2.2.*,!=2.3.0,<3.0.0dev,>=1.31.5->google-cloud-bigquery->bq_helper) (1.59.3)\n",
      "Requirement already satisfied: google-crc32c<2.0dev,>=1.0 in /home/logan/.local/lib/python3.10/site-packages (from google-resumable-media<3.0dev,>=0.6.0->google-cloud-bigquery->bq_helper) (1.5.0)\n",
      "Requirement already satisfied: six>=1.5 in /home/logan/.local/lib/python3.10/site-packages (from python-dateutil<3.0dev,>=2.7.2->google-cloud-bigquery->bq_helper) (1.16.0)\n",
      "Requirement already satisfied: certifi>=2017.4.17 in /usr/lib/python3/dist-packages (from requests<3.0.0dev,>=2.18.0->google-cloud-bigquery->bq_helper) (2020.6.20)\n",
      "Requirement already satisfied: charset-normalizer<4,>=2 in /home/logan/.local/lib/python3.10/site-packages (from requests<3.0.0dev,>=2.18.0->google-cloud-bigquery->bq_helper) (2.1.1)\n",
      "Requirement already satisfied: idna<4,>=2.5 in /usr/lib/python3/dist-packages (from requests<3.0.0dev,>=2.18.0->google-cloud-bigquery->bq_helper) (3.3)\n",
      "Requirement already satisfied: urllib3<3,>=1.21.1 in /home/logan/.local/lib/python3.10/site-packages (from requests<3.0.0dev,>=2.18.0->google-cloud-bigquery->bq_helper) (2.1.0)\n",
      "Requirement already satisfied: cachetools<6.0,>=2.0.0 in /home/logan/.local/lib/python3.10/site-packages (from google-auth<3.0.dev0,>=2.14.1->google-api-core[grpc]!=2.0.*,!=2.1.*,!=2.2.*,!=2.3.0,<3.0.0dev,>=1.31.5->google-cloud-bigquery->bq_helper) (5.3.2)\n",
      "Requirement already satisfied: rsa<5,>=3.1.4 in /home/logan/.local/lib/python3.10/site-packages (from google-auth<3.0.dev0,>=2.14.1->google-api-core[grpc]!=2.0.*,!=2.1.*,!=2.2.*,!=2.3.0,<3.0.0dev,>=1.31.5->google-cloud-bigquery->bq_helper) (4.9)\n",
      "Requirement already satisfied: pyasn1-modules>=0.2.1 in /usr/lib/python3/dist-packages (from google-auth<3.0.dev0,>=2.14.1->google-api-core[grpc]!=2.0.*,!=2.1.*,!=2.2.*,!=2.3.0,<3.0.0dev,>=1.31.5->google-cloud-bigquery->bq_helper) (0.2.1)\n",
      "Requirement already satisfied: pyasn1>=0.1.3 in /usr/lib/python3/dist-packages (from rsa<5,>=3.1.4->google-auth<3.0.dev0,>=2.14.1->google-api-core[grpc]!=2.0.*,!=2.1.*,!=2.2.*,!=2.3.0,<3.0.0dev,>=1.31.5->google-cloud-bigquery->bq_helper) (0.4.8)\n",
      "Installing collected packages: bq_helper\n",
      "  Attempting uninstall: bq_helper\n",
      "    Found existing installation: bq-helper 0.4.1\n",
      "    Uninstalling bq-helper-0.4.1:\n",
      "      Successfully uninstalled bq-helper-0.4.1\n",
      "  Running setup.py develop for bq_helper\n",
      "Successfully installed bq_helper\n"
     ]
    }
   ],
   "source": [
    "!pip install -e git+https://github.com/SohierDane/BigQuery_Helper#egg=bq_helper"
   ]
  },
  {
   "cell_type": "code",
   "execution_count": 3,
   "metadata": {},
   "outputs": [
    {
     "ename": "NameError",
     "evalue": "name 'bq_helper' is not defined",
     "output_type": "error",
     "traceback": [
      "\u001b[0;31m---------------------------------------------------------------------------\u001b[0m",
      "\u001b[0;31mNameError\u001b[0m                                 Traceback (most recent call last)",
      "\u001b[1;32m/home/logan/onedrive-utk/utk-fall-2023/cs545-digital-arch/GithubWrapped/test.ipynb Cell 3\u001b[0m line \u001b[0;36m6\n\u001b[1;32m      <a href='vscode-notebook-cell:/home/logan/onedrive-utk/utk-fall-2023/cs545-digital-arch/GithubWrapped/test.ipynb#W1sZmlsZQ%3D%3D?line=3'>4</a>\u001b[0m project_id \u001b[39m=\u001b[39m \u001b[39m'\u001b[39m\u001b[39mgithubwrapped\u001b[39m\u001b[39m'\u001b[39m\n\u001b[1;32m      <a href='vscode-notebook-cell:/home/logan/onedrive-utk/utk-fall-2023/cs545-digital-arch/GithubWrapped/test.ipynb#W1sZmlsZQ%3D%3D?line=4'>5</a>\u001b[0m client \u001b[39m=\u001b[39m bigquery\u001b[39m.\u001b[39mClient(credentials\u001b[39m=\u001b[39m credentials,project\u001b[39m=\u001b[39mproject_id)\n\u001b[0;32m----> <a href='vscode-notebook-cell:/home/logan/onedrive-utk/utk-fall-2023/cs545-digital-arch/GithubWrapped/test.ipynb#W1sZmlsZQ%3D%3D?line=5'>6</a>\u001b[0m github_repos \u001b[39m=\u001b[39m bq_helper\u001b[39m.\u001b[39mBigQueryHelper(active_project\u001b[39m=\u001b[39m \u001b[39m\"\u001b[39m\u001b[39mbigquery-public-data\u001b[39m\u001b[39m\"\u001b[39m, \n\u001b[1;32m      <a href='vscode-notebook-cell:/home/logan/onedrive-utk/utk-fall-2023/cs545-digital-arch/GithubWrapped/test.ipynb#W1sZmlsZQ%3D%3D?line=6'>7</a>\u001b[0m                                        dataset_name \u001b[39m=\u001b[39m \u001b[39m\"\u001b[39m\u001b[39mgithub_repos\u001b[39m\u001b[39m\"\u001b[39m)\n",
      "\u001b[0;31mNameError\u001b[0m: name 'bq_helper' is not defined"
     ]
    }
   ],
   "source": [
    "credentials = service_account.Credentials.from_service_account_file(\n",
    "'./keys/githubwrapped-b722be9eab4b.json')\n",
    "\n",
    "project_id = 'githubwrapped'\n",
    "client = bigquery.Client(credentials= credentials,project=project_id)\n",
    "github_repos = bq_helper.BigQueryHelper(active_project= \"bigquery-public-data\", \n",
    "                                       dataset_name = \"github_repos\")"
   ]
  }
 ],
 "metadata": {
  "kernelspec": {
   "display_name": "Python 3",
   "language": "python",
   "name": "python3"
  },
  "language_info": {
   "codemirror_mode": {
    "name": "ipython",
    "version": 3
   },
   "file_extension": ".py",
   "mimetype": "text/x-python",
   "name": "python",
   "nbconvert_exporter": "python",
   "pygments_lexer": "ipython3",
   "version": "3.10.12"
  }
 },
 "nbformat": 4,
 "nbformat_minor": 2
}
